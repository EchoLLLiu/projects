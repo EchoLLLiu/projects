{
 "cells": [
  {
   "cell_type": "markdown",
   "metadata": {},
   "source": [
    "# 1 数据加载与分析"
   ]
  },
  {
   "cell_type": "code",
   "execution_count": 82,
   "metadata": {},
   "outputs": [],
   "source": [
    "import pandas as pd\n",
    "import matplotlib.pyplot as plt\n",
    "import matplotlib as mpl\n",
    "import numpy as np\n",
    "import seaborn as sns\n",
    "\n",
    "plt.rcParams['font.sans-serif']=['SimHei'] #用来正常显示中文标签\n",
    "plt.rcParams['axes.unicode_minus']=False #用来正常显示负号\n",
    "\n",
    "%matplotlib inline"
   ]
  },
  {
   "cell_type": "code",
   "execution_count": 83,
   "metadata": {},
   "outputs": [],
   "source": [
    "import os\n",
    "import pandas as pd\n",
    "HOUSE_PATH = './dataset'\n",
    "def loadDataSet(filename, housing_path = HOUSE_PATH):\n",
    "    csv_path = os.path.join(housing_path, filename)\n",
    "    return pd.read_csv(csv_path)"
   ]
  },
  {
   "cell_type": "code",
   "execution_count": 84,
   "metadata": {},
   "outputs": [
    {
     "data": {
      "text/html": [
       "<div>\n",
       "<style scoped>\n",
       "    .dataframe tbody tr th:only-of-type {\n",
       "        vertical-align: middle;\n",
       "    }\n",
       "\n",
       "    .dataframe tbody tr th {\n",
       "        vertical-align: top;\n",
       "    }\n",
       "\n",
       "    .dataframe thead th {\n",
       "        text-align: right;\n",
       "    }\n",
       "</style>\n",
       "<table border=\"1\" class=\"dataframe\">\n",
       "  <thead>\n",
       "    <tr style=\"text-align: right;\">\n",
       "      <th></th>\n",
       "      <th>longitude</th>\n",
       "      <th>latitude</th>\n",
       "      <th>housing_median_age</th>\n",
       "      <th>total_rooms</th>\n",
       "      <th>total_bedrooms</th>\n",
       "      <th>population</th>\n",
       "      <th>households</th>\n",
       "      <th>median_income</th>\n",
       "      <th>median_house_value</th>\n",
       "      <th>ocean_proximity</th>\n",
       "    </tr>\n",
       "  </thead>\n",
       "  <tbody>\n",
       "    <tr>\n",
       "      <th>0</th>\n",
       "      <td>-122.23</td>\n",
       "      <td>37.88</td>\n",
       "      <td>41.0</td>\n",
       "      <td>880.0</td>\n",
       "      <td>129.0</td>\n",
       "      <td>322.0</td>\n",
       "      <td>126.0</td>\n",
       "      <td>8.3252</td>\n",
       "      <td>452600.0</td>\n",
       "      <td>NEAR BAY</td>\n",
       "    </tr>\n",
       "    <tr>\n",
       "      <th>1</th>\n",
       "      <td>-122.22</td>\n",
       "      <td>37.86</td>\n",
       "      <td>21.0</td>\n",
       "      <td>7099.0</td>\n",
       "      <td>1106.0</td>\n",
       "      <td>2401.0</td>\n",
       "      <td>1138.0</td>\n",
       "      <td>8.3014</td>\n",
       "      <td>358500.0</td>\n",
       "      <td>NEAR BAY</td>\n",
       "    </tr>\n",
       "    <tr>\n",
       "      <th>2</th>\n",
       "      <td>-122.24</td>\n",
       "      <td>37.85</td>\n",
       "      <td>52.0</td>\n",
       "      <td>1467.0</td>\n",
       "      <td>190.0</td>\n",
       "      <td>496.0</td>\n",
       "      <td>177.0</td>\n",
       "      <td>7.2574</td>\n",
       "      <td>352100.0</td>\n",
       "      <td>NEAR BAY</td>\n",
       "    </tr>\n",
       "    <tr>\n",
       "      <th>3</th>\n",
       "      <td>-122.25</td>\n",
       "      <td>37.85</td>\n",
       "      <td>52.0</td>\n",
       "      <td>1274.0</td>\n",
       "      <td>235.0</td>\n",
       "      <td>558.0</td>\n",
       "      <td>219.0</td>\n",
       "      <td>5.6431</td>\n",
       "      <td>341300.0</td>\n",
       "      <td>NEAR BAY</td>\n",
       "    </tr>\n",
       "    <tr>\n",
       "      <th>4</th>\n",
       "      <td>-122.25</td>\n",
       "      <td>37.85</td>\n",
       "      <td>52.0</td>\n",
       "      <td>1627.0</td>\n",
       "      <td>280.0</td>\n",
       "      <td>565.0</td>\n",
       "      <td>259.0</td>\n",
       "      <td>3.8462</td>\n",
       "      <td>342200.0</td>\n",
       "      <td>NEAR BAY</td>\n",
       "    </tr>\n",
       "  </tbody>\n",
       "</table>\n",
       "</div>"
      ],
      "text/plain": [
       "   longitude  latitude  housing_median_age  total_rooms  total_bedrooms  \\\n",
       "0    -122.23     37.88                41.0        880.0           129.0   \n",
       "1    -122.22     37.86                21.0       7099.0          1106.0   \n",
       "2    -122.24     37.85                52.0       1467.0           190.0   \n",
       "3    -122.25     37.85                52.0       1274.0           235.0   \n",
       "4    -122.25     37.85                52.0       1627.0           280.0   \n",
       "\n",
       "   population  households  median_income  median_house_value ocean_proximity  \n",
       "0       322.0       126.0         8.3252            452600.0        NEAR BAY  \n",
       "1      2401.0      1138.0         8.3014            358500.0        NEAR BAY  \n",
       "2       496.0       177.0         7.2574            352100.0        NEAR BAY  \n",
       "3       558.0       219.0         5.6431            341300.0        NEAR BAY  \n",
       "4       565.0       259.0         3.8462            342200.0        NEAR BAY  "
      ]
     },
     "execution_count": 84,
     "metadata": {},
     "output_type": "execute_result"
    }
   ],
   "source": [
    "housing = loadDataSet('housing.csv')\n",
    "housing.head()"
   ]
  },
  {
   "cell_type": "code",
   "execution_count": 85,
   "metadata": {},
   "outputs": [
    {
     "name": "stdout",
     "output_type": "stream",
     "text": [
      "<class 'pandas.core.frame.DataFrame'>\n",
      "RangeIndex: 20640 entries, 0 to 20639\n",
      "Data columns (total 10 columns):\n",
      "longitude             20640 non-null float64\n",
      "latitude              20640 non-null float64\n",
      "housing_median_age    20640 non-null float64\n",
      "total_rooms           20640 non-null float64\n",
      "total_bedrooms        20433 non-null float64\n",
      "population            20640 non-null float64\n",
      "households            20640 non-null float64\n",
      "median_income         20640 non-null float64\n",
      "median_house_value    20640 non-null float64\n",
      "ocean_proximity       20640 non-null object\n",
      "dtypes: float64(9), object(1)\n",
      "memory usage: 1.6+ MB\n"
     ]
    }
   ],
   "source": [
    "housing.info() # total_bedrooms 有缺失值；ocean_proximity 为对象（string）"
   ]
  },
  {
   "cell_type": "markdown",
   "metadata": {},
   "source": [
    "#### total_bedrooms有缺失值，ocean_proximity为string类型"
   ]
  },
  {
   "cell_type": "code",
   "execution_count": 86,
   "metadata": {},
   "outputs": [
    {
     "data": {
      "text/plain": [
       "<1H OCEAN     9136\n",
       "INLAND        6551\n",
       "NEAR OCEAN    2658\n",
       "NEAR BAY      2290\n",
       "ISLAND           5\n",
       "Name: ocean_proximity, dtype: int64"
      ]
     },
     "execution_count": 86,
     "metadata": {},
     "output_type": "execute_result"
    }
   ],
   "source": [
    "housing['ocean_proximity'].value_counts()"
   ]
  },
  {
   "cell_type": "code",
   "execution_count": 87,
   "metadata": {},
   "outputs": [
    {
     "data": {
      "text/html": [
       "<div>\n",
       "<style scoped>\n",
       "    .dataframe tbody tr th:only-of-type {\n",
       "        vertical-align: middle;\n",
       "    }\n",
       "\n",
       "    .dataframe tbody tr th {\n",
       "        vertical-align: top;\n",
       "    }\n",
       "\n",
       "    .dataframe thead th {\n",
       "        text-align: right;\n",
       "    }\n",
       "</style>\n",
       "<table border=\"1\" class=\"dataframe\">\n",
       "  <thead>\n",
       "    <tr style=\"text-align: right;\">\n",
       "      <th></th>\n",
       "      <th>longitude</th>\n",
       "      <th>latitude</th>\n",
       "      <th>housing_median_age</th>\n",
       "      <th>total_rooms</th>\n",
       "      <th>total_bedrooms</th>\n",
       "      <th>population</th>\n",
       "      <th>households</th>\n",
       "      <th>median_income</th>\n",
       "      <th>median_house_value</th>\n",
       "    </tr>\n",
       "  </thead>\n",
       "  <tbody>\n",
       "    <tr>\n",
       "      <th>count</th>\n",
       "      <td>20640.000000</td>\n",
       "      <td>20640.000000</td>\n",
       "      <td>20640.000000</td>\n",
       "      <td>20640.000000</td>\n",
       "      <td>20433.000000</td>\n",
       "      <td>20640.000000</td>\n",
       "      <td>20640.000000</td>\n",
       "      <td>20640.000000</td>\n",
       "      <td>20640.000000</td>\n",
       "    </tr>\n",
       "    <tr>\n",
       "      <th>mean</th>\n",
       "      <td>-119.569704</td>\n",
       "      <td>35.631861</td>\n",
       "      <td>28.639486</td>\n",
       "      <td>2635.763081</td>\n",
       "      <td>537.870553</td>\n",
       "      <td>1425.476744</td>\n",
       "      <td>499.539680</td>\n",
       "      <td>3.870671</td>\n",
       "      <td>206855.816909</td>\n",
       "    </tr>\n",
       "    <tr>\n",
       "      <th>std</th>\n",
       "      <td>2.003532</td>\n",
       "      <td>2.135952</td>\n",
       "      <td>12.585558</td>\n",
       "      <td>2181.615252</td>\n",
       "      <td>421.385070</td>\n",
       "      <td>1132.462122</td>\n",
       "      <td>382.329753</td>\n",
       "      <td>1.899822</td>\n",
       "      <td>115395.615874</td>\n",
       "    </tr>\n",
       "    <tr>\n",
       "      <th>min</th>\n",
       "      <td>-124.350000</td>\n",
       "      <td>32.540000</td>\n",
       "      <td>1.000000</td>\n",
       "      <td>2.000000</td>\n",
       "      <td>1.000000</td>\n",
       "      <td>3.000000</td>\n",
       "      <td>1.000000</td>\n",
       "      <td>0.499900</td>\n",
       "      <td>14999.000000</td>\n",
       "    </tr>\n",
       "    <tr>\n",
       "      <th>25%</th>\n",
       "      <td>-121.800000</td>\n",
       "      <td>33.930000</td>\n",
       "      <td>18.000000</td>\n",
       "      <td>1447.750000</td>\n",
       "      <td>296.000000</td>\n",
       "      <td>787.000000</td>\n",
       "      <td>280.000000</td>\n",
       "      <td>2.563400</td>\n",
       "      <td>119600.000000</td>\n",
       "    </tr>\n",
       "    <tr>\n",
       "      <th>50%</th>\n",
       "      <td>-118.490000</td>\n",
       "      <td>34.260000</td>\n",
       "      <td>29.000000</td>\n",
       "      <td>2127.000000</td>\n",
       "      <td>435.000000</td>\n",
       "      <td>1166.000000</td>\n",
       "      <td>409.000000</td>\n",
       "      <td>3.534800</td>\n",
       "      <td>179700.000000</td>\n",
       "    </tr>\n",
       "    <tr>\n",
       "      <th>75%</th>\n",
       "      <td>-118.010000</td>\n",
       "      <td>37.710000</td>\n",
       "      <td>37.000000</td>\n",
       "      <td>3148.000000</td>\n",
       "      <td>647.000000</td>\n",
       "      <td>1725.000000</td>\n",
       "      <td>605.000000</td>\n",
       "      <td>4.743250</td>\n",
       "      <td>264725.000000</td>\n",
       "    </tr>\n",
       "    <tr>\n",
       "      <th>max</th>\n",
       "      <td>-114.310000</td>\n",
       "      <td>41.950000</td>\n",
       "      <td>52.000000</td>\n",
       "      <td>39320.000000</td>\n",
       "      <td>6445.000000</td>\n",
       "      <td>35682.000000</td>\n",
       "      <td>6082.000000</td>\n",
       "      <td>15.000100</td>\n",
       "      <td>500001.000000</td>\n",
       "    </tr>\n",
       "  </tbody>\n",
       "</table>\n",
       "</div>"
      ],
      "text/plain": [
       "          longitude      latitude  housing_median_age   total_rooms  \\\n",
       "count  20640.000000  20640.000000        20640.000000  20640.000000   \n",
       "mean    -119.569704     35.631861           28.639486   2635.763081   \n",
       "std        2.003532      2.135952           12.585558   2181.615252   \n",
       "min     -124.350000     32.540000            1.000000      2.000000   \n",
       "25%     -121.800000     33.930000           18.000000   1447.750000   \n",
       "50%     -118.490000     34.260000           29.000000   2127.000000   \n",
       "75%     -118.010000     37.710000           37.000000   3148.000000   \n",
       "max     -114.310000     41.950000           52.000000  39320.000000   \n",
       "\n",
       "       total_bedrooms    population    households  median_income  \\\n",
       "count    20433.000000  20640.000000  20640.000000   20640.000000   \n",
       "mean       537.870553   1425.476744    499.539680       3.870671   \n",
       "std        421.385070   1132.462122    382.329753       1.899822   \n",
       "min          1.000000      3.000000      1.000000       0.499900   \n",
       "25%        296.000000    787.000000    280.000000       2.563400   \n",
       "50%        435.000000   1166.000000    409.000000       3.534800   \n",
       "75%        647.000000   1725.000000    605.000000       4.743250   \n",
       "max       6445.000000  35682.000000   6082.000000      15.000100   \n",
       "\n",
       "       median_house_value  \n",
       "count        20640.000000  \n",
       "mean        206855.816909  \n",
       "std         115395.615874  \n",
       "min          14999.000000  \n",
       "25%         119600.000000  \n",
       "50%         179700.000000  \n",
       "75%         264725.000000  \n",
       "max         500001.000000  "
      ]
     },
     "execution_count": 87,
     "metadata": {},
     "output_type": "execute_result"
    }
   ],
   "source": [
    "housing.describe()"
   ]
  },
  {
   "cell_type": "code",
   "execution_count": 88,
   "metadata": {},
   "outputs": [
    {
     "data": {
      "text/plain": [
       "array([[<matplotlib.axes._subplots.AxesSubplot object at 0x0000023442713F98>,\n",
       "        <matplotlib.axes._subplots.AxesSubplot object at 0x0000023445E47898>,\n",
       "        <matplotlib.axes._subplots.AxesSubplot object at 0x0000023445E7F438>],\n",
       "       [<matplotlib.axes._subplots.AxesSubplot object at 0x0000023445EDF198>,\n",
       "        <matplotlib.axes._subplots.AxesSubplot object at 0x0000023445F10C88>,\n",
       "        <matplotlib.axes._subplots.AxesSubplot object at 0x0000023445F10CC0>],\n",
       "       [<matplotlib.axes._subplots.AxesSubplot object at 0x00000234463C6BE0>,\n",
       "        <matplotlib.axes._subplots.AxesSubplot object at 0x0000023446401860>,\n",
       "        <matplotlib.axes._subplots.AxesSubplot object at 0x000002344643F550>]],\n",
       "      dtype=object)"
      ]
     },
     "execution_count": 88,
     "metadata": {},
     "output_type": "execute_result"
    },
    {
     "data": {
      "image/png": "[encoded data removed]",
      "text/plain": [
       "<matplotlib.figure.Figure at 0x234426d3710>"
      ]
     },
     "metadata": {},
     "output_type": "display_data"
    }
   ],
   "source": [
    "housing.hist(bins=50, figsize=(15,10))"
   ]
  },
  {
   "cell_type": "code",
   "execution_count": 89,
   "metadata": {},
   "outputs": [
    {
     "name": "stdout",
     "output_type": "stream",
     "text": [
      "longitude             18511\n",
      "latitude              18511\n",
      "housing_median_age    18511\n",
      "total_rooms           18511\n",
      "total_bedrooms        18319\n",
      "population            18511\n",
      "households            18511\n",
      "median_income         18511\n",
      "median_house_value    18511\n",
      "ocean_proximity       18511\n",
      "dtype: int64\n"
     ]
    },
    {
     "data": {
      "text/plain": [
       "array([[<matplotlib.axes._subplots.AxesSubplot object at 0x0000023446A48550>,\n",
       "        <matplotlib.axes._subplots.AxesSubplot object at 0x00000234469B1C18>,\n",
       "        <matplotlib.axes._subplots.AxesSubplot object at 0x0000023446B93D30>],\n",
       "       [<matplotlib.axes._subplots.AxesSubplot object at 0x0000023446BC0DD8>,\n",
       "        <matplotlib.axes._subplots.AxesSubplot object at 0x0000023446BF3CF8>,\n",
       "        <matplotlib.axes._subplots.AxesSubplot object at 0x0000023446BF3D30>],\n",
       "       [<matplotlib.axes._subplots.AxesSubplot object at 0x000002344707CCF8>,\n",
       "        <matplotlib.axes._subplots.AxesSubplot object at 0x00000234470B6CF8>,\n",
       "        <matplotlib.axes._subplots.AxesSubplot object at 0x00000234470EBD68>]],\n",
       "      dtype=object)"
      ]
     },
     "execution_count": 89,
     "metadata": {},
     "output_type": "execute_result"
    },
    {
     "data": {
      "image/png": "[encoded data removed]",
      "text/plain": [
       "<matplotlib.figure.Figure at 0x23442713a58>"
      ]
     },
     "metadata": {},
     "output_type": "display_data"
    }
   ],
   "source": [
    "# 删除原始数据中age>50的，value>500000的\n",
    "housing_copy = housing.copy()\n",
    "housing_copy = housing_copy[housing_copy['housing_median_age'] <= 50]\n",
    "housing_copy = housing_copy[housing_copy['median_house_value'] < 500000]\n",
    "print(housing_copy.count())\n",
    "housing_copy.hist(bins = 50, figsize = (15, 10))"
   ]
  },
  {
   "cell_type": "code",
   "execution_count": 90,
   "metadata": {},
   "outputs": [
    {
     "data": {
      "text/plain": [
       "<matplotlib.axes._subplots.AxesSubplot at 0x2344717dba8>"
      ]
     },
     "execution_count": 90,
     "metadata": {},
     "output_type": "execute_result"
    },
    {
     "data": {
      "image/png": "[encoded data removed]",
      "text/plain": [
       "<matplotlib.figure.Figure at 0x2343f3994a8>"
      ]
     },
     "metadata": {},
     "output_type": "display_data"
    }
   ],
   "source": [
    "import numpy as np\n",
    "total_bedrooms = housing_copy['total_bedrooms']\n",
    "total_bedrooms_log = np.log(total_bedrooms)\n",
    "total_bedrooms_log.hist(bins = 50)"
   ]
  },
  {
   "cell_type": "code",
   "execution_count": 91,
   "metadata": {},
   "outputs": [
    {
     "data": {
      "text/plain": [
       "array([[<matplotlib.axes._subplots.AxesSubplot object at 0x000002343F80ED68>,\n",
       "        <matplotlib.axes._subplots.AxesSubplot object at 0x000002343F851DD8>,\n",
       "        <matplotlib.axes._subplots.AxesSubplot object at 0x000002343F88AE48>],\n",
       "       [<matplotlib.axes._subplots.AxesSubplot object at 0x000002343F8C4D68>,\n",
       "        <matplotlib.axes._subplots.AxesSubplot object at 0x0000023445CD81D0>,\n",
       "        <matplotlib.axes._subplots.AxesSubplot object at 0x0000023445CD8208>],\n",
       "       [<matplotlib.axes._subplots.AxesSubplot object at 0x000002344753A780>,\n",
       "        <matplotlib.axes._subplots.AxesSubplot object at 0x0000023447575780>,\n",
       "        <matplotlib.axes._subplots.AxesSubplot object at 0x00000234475ABCC0>]],\n",
       "      dtype=object)"
      ]
     },
     "execution_count": 91,
     "metadata": {},
     "output_type": "execute_result"
    },
    {
     "data": {
      "image/png": "[encoded data removed]",
      "text/plain": [
       "<matplotlib.figure.Figure at 0x23443ff16a0>"
      ]
     },
     "metadata": {},
     "output_type": "display_data"
    }
   ],
   "source": [
    "# 对 households、population、total_bedrooms、total_rooms取log\n",
    "housing_copy_ch = housing_copy.copy()\n",
    "names = ['households', 'population', 'total_bedrooms', 'total_rooms']\n",
    "for col in names:\n",
    "    housing_copy_ch[col + '_log'] = np.log(housing_copy_ch[col])\n",
    "    housing_copy_ch.drop([col], axis=1, inplace=True)\n",
    "housing_copy_ch.head(5)\n",
    "housing_copy_ch.hist(bins = 50, figsize = (15, 10))"
   ]
  },
  {
   "cell_type": "code",
   "execution_count": 92,
   "metadata": {},
   "outputs": [
    {
     "data": {
      "text/html": [
       "<div>\n",
       "<style scoped>\n",
       "    .dataframe tbody tr th:only-of-type {\n",
       "        vertical-align: middle;\n",
       "    }\n",
       "\n",
       "    .dataframe tbody tr th {\n",
       "        vertical-align: top;\n",
       "    }\n",
       "\n",
       "    .dataframe thead th {\n",
       "        text-align: right;\n",
       "    }\n",
       "</style>\n",
       "<table border=\"1\" class=\"dataframe\">\n",
       "  <thead>\n",
       "    <tr style=\"text-align: right;\">\n",
       "      <th></th>\n",
       "      <th>longitude</th>\n",
       "      <th>latitude</th>\n",
       "      <th>housing_median_age</th>\n",
       "      <th>median_income</th>\n",
       "      <th>median_house_value</th>\n",
       "      <th>households_log</th>\n",
       "      <th>population_log</th>\n",
       "      <th>total_bedrooms_log</th>\n",
       "      <th>total_rooms_log</th>\n",
       "    </tr>\n",
       "  </thead>\n",
       "  <tbody>\n",
       "    <tr>\n",
       "      <th>count</th>\n",
       "      <td>18511.000000</td>\n",
       "      <td>18511.000000</td>\n",
       "      <td>18511.000000</td>\n",
       "      <td>18511.000000</td>\n",
       "      <td>18511.000000</td>\n",
       "      <td>18511.000000</td>\n",
       "      <td>18511.000000</td>\n",
       "      <td>18319.000000</td>\n",
       "      <td>18511.000000</td>\n",
       "    </tr>\n",
       "    <tr>\n",
       "      <th>mean</th>\n",
       "      <td>-119.483121</td>\n",
       "      <td>35.592461</td>\n",
       "      <td>26.924207</td>\n",
       "      <td>3.694768</td>\n",
       "      <td>189290.799903</td>\n",
       "      <td>6.001960</td>\n",
       "      <td>7.059863</td>\n",
       "      <td>6.073177</td>\n",
       "      <td>7.643927</td>\n",
       "    </tr>\n",
       "    <tr>\n",
       "      <th>std</th>\n",
       "      <td>1.980598</td>\n",
       "      <td>2.148216</td>\n",
       "      <td>11.387532</td>\n",
       "      <td>1.570521</td>\n",
       "      <td>95321.196022</td>\n",
       "      <td>0.723582</td>\n",
       "      <td>0.729633</td>\n",
       "      <td>0.721516</td>\n",
       "      <td>0.740349</td>\n",
       "    </tr>\n",
       "    <tr>\n",
       "      <th>min</th>\n",
       "      <td>-124.300000</td>\n",
       "      <td>32.540000</td>\n",
       "      <td>1.000000</td>\n",
       "      <td>0.499900</td>\n",
       "      <td>14999.000000</td>\n",
       "      <td>0.693147</td>\n",
       "      <td>1.098612</td>\n",
       "      <td>0.693147</td>\n",
       "      <td>0.693147</td>\n",
       "    </tr>\n",
       "    <tr>\n",
       "      <th>25%</th>\n",
       "      <td>-121.540000</td>\n",
       "      <td>33.920000</td>\n",
       "      <td>17.000000</td>\n",
       "      <td>2.538750</td>\n",
       "      <td>115400.000000</td>\n",
       "      <td>5.648974</td>\n",
       "      <td>6.699500</td>\n",
       "      <td>5.703782</td>\n",
       "      <td>7.284135</td>\n",
       "    </tr>\n",
       "    <tr>\n",
       "      <th>50%</th>\n",
       "      <td>-118.450000</td>\n",
       "      <td>34.240000</td>\n",
       "      <td>27.000000</td>\n",
       "      <td>3.469800</td>\n",
       "      <td>171100.000000</td>\n",
       "      <td>6.030685</td>\n",
       "      <td>7.094235</td>\n",
       "      <td>6.091310</td>\n",
       "      <td>7.669962</td>\n",
       "    </tr>\n",
       "    <tr>\n",
       "      <th>75%</th>\n",
       "      <td>-117.970000</td>\n",
       "      <td>37.670000</td>\n",
       "      <td>36.000000</td>\n",
       "      <td>4.617900</td>\n",
       "      <td>243000.000000</td>\n",
       "      <td>6.419995</td>\n",
       "      <td>7.485492</td>\n",
       "      <td>6.490724</td>\n",
       "      <td>8.066678</td>\n",
       "    </tr>\n",
       "    <tr>\n",
       "      <th>max</th>\n",
       "      <td>-114.310000</td>\n",
       "      <td>41.950000</td>\n",
       "      <td>50.000000</td>\n",
       "      <td>15.000100</td>\n",
       "      <td>499100.000000</td>\n",
       "      <td>8.713089</td>\n",
       "      <td>10.482402</td>\n",
       "      <td>8.771060</td>\n",
       "      <td>10.579489</td>\n",
       "    </tr>\n",
       "  </tbody>\n",
       "</table>\n",
       "</div>"
      ],
      "text/plain": [
       "          longitude      latitude  housing_median_age  median_income  \\\n",
       "count  18511.000000  18511.000000        18511.000000   18511.000000   \n",
       "mean    -119.483121     35.592461           26.924207       3.694768   \n",
       "std        1.980598      2.148216           11.387532       1.570521   \n",
       "min     -124.300000     32.540000            1.000000       0.499900   \n",
       "25%     -121.540000     33.920000           17.000000       2.538750   \n",
       "50%     -118.450000     34.240000           27.000000       3.469800   \n",
       "75%     -117.970000     37.670000           36.000000       4.617900   \n",
       "max     -114.310000     41.950000           50.000000      15.000100   \n",
       "\n",
       "       median_house_value  households_log  population_log  total_bedrooms_log  \\\n",
       "count        18511.000000    18511.000000    18511.000000        18319.000000   \n",
       "mean        189290.799903        6.001960        7.059863            6.073177   \n",
       "std          95321.196022        0.723582        0.729633            0.721516   \n",
       "min          14999.000000        0.693147        1.098612            0.693147   \n",
       "25%         115400.000000        5.648974        6.699500            5.703782   \n",
       "50%         171100.000000        6.030685        7.094235            6.091310   \n",
       "75%         243000.000000        6.419995        7.485492            6.490724   \n",
       "max         499100.000000        8.713089       10.482402            8.771060   \n",
       "\n",
       "       total_rooms_log  \n",
       "count     18511.000000  \n",
       "mean          7.643927  \n",
       "std           0.740349  \n",
       "min           0.693147  \n",
       "25%           7.284135  \n",
       "50%           7.669962  \n",
       "75%           8.066678  \n",
       "max          10.579489  "
      ]
     },
     "execution_count": 92,
     "metadata": {},
     "output_type": "execute_result"
    }
   ],
   "source": [
    "housing_copy_ch.describe()"
   ]
  },
  {
   "cell_type": "markdown",
   "metadata": {},
   "source": [
    "## 1.1 创建训练集与测试集"
   ]
  },
  {
   "cell_type": "code",
   "execution_count": 303,
   "metadata": {},
   "outputs": [],
   "source": [
    "housing_copy = housing_copy_ch.copy()\n",
    "housing_price = housing_copy['median_house_value']\n",
    "housing_fea = housing_copy.drop('median_house_value', axis = 1)"
   ]
  },
  {
   "cell_type": "code",
   "execution_count": 304,
   "metadata": {},
   "outputs": [],
   "source": [
    "from sklearn.model_selection import train_test_split\n",
    "\n",
    "housingFeaTrian, housingFeaTest, housingPriTrain, housingPriTest = train_test_split(\n",
    "    housing_fea, housing_price, test_size = 0.3, random_state = 0)"
   ]
  },
  {
   "cell_type": "markdown",
   "metadata": {},
   "source": [
    "## 1.2 对单变量进行分析（训练集）"
   ]
  },
  {
   "cell_type": "code",
   "execution_count": 164,
   "metadata": {},
   "outputs": [],
   "source": [
    "# %matplotlib inline\n",
    "import matplotlib.pyplot as plt"
   ]
  },
  {
   "cell_type": "code",
   "execution_count": 305,
   "metadata": {},
   "outputs": [],
   "source": [
    "housing_train = housingFeaTrian.copy()\n",
    "housing_train['price'] = housingPriTrain"
   ]
  },
  {
   "cell_type": "code",
   "execution_count": 166,
   "metadata": {},
   "outputs": [
    {
     "data": {
      "text/plain": [
       "array([[<matplotlib.axes._subplots.AxesSubplot object at 0x0000023447C159E8>,\n",
       "        <matplotlib.axes._subplots.AxesSubplot object at 0x0000023447C67C88>,\n",
       "        <matplotlib.axes._subplots.AxesSubplot object at 0x00000234487A7D68>],\n",
       "       [<matplotlib.axes._subplots.AxesSubplot object at 0x0000023447C0CC18>,\n",
       "        <matplotlib.axes._subplots.AxesSubplot object at 0x00000234487D9320>,\n",
       "        <matplotlib.axes._subplots.AxesSubplot object at 0x00000234487D9358>],\n",
       "       [<matplotlib.axes._subplots.AxesSubplot object at 0x000002344887CEF0>,\n",
       "        <matplotlib.axes._subplots.AxesSubplot object at 0x0000023448895630>,\n",
       "        <matplotlib.axes._subplots.AxesSubplot object at 0x000002344CD15A20>]],\n",
       "      dtype=object)"
      ]
     },
     "execution_count": 166,
     "metadata": {},
     "output_type": "execute_result"
    },
    {
     "data": {
      "image/png": "[encoded data removed]",
      "text/plain": [
       "<matplotlib.figure.Figure at 0x23447c0fdd8>"
      ]
     },
     "metadata": {},
     "output_type": "display_data"
    }
   ],
   "source": [
    "housing_train.hist(bins=50, figsize=(15,10))"
   ]
  },
  {
   "cell_type": "code",
   "execution_count": 148,
   "metadata": {},
   "outputs": [
    {
     "data": {
      "image/png": "[encoded data removed]",
      "text/plain": [
       "<matplotlib.figure.Figure at 0x2344b49a438>"
      ]
     },
     "metadata": {},
     "output_type": "display_data"
    }
   ],
   "source": [
    "# 相关性分析\n",
    "import seaborn as sns\n",
    "f, ax = plt.subplots(figsize = (10, 6))\n",
    "corr = housing_train.corr()\n",
    "mask = np.array(corr)\n",
    "hm = sns.heatmap(np.round(corr, 2), annot = True, ax = ax, fmt = '.2f',\n",
    "                linewidths = .05, vmax = .8)\n",
    "t = f.suptitle(u'房价特征相关性分析', fontsize = 14)"
   ]
  },
  {
   "cell_type": "markdown",
   "metadata": {},
   "source": [
    "### 可视化地理数据"
   ]
  },
  {
   "cell_type": "code",
   "execution_count": 149,
   "metadata": {},
   "outputs": [
    {
     "data": {
      "text/plain": [
       "<matplotlib.axes._subplots.AxesSubplot at 0x23440f93cc0>"
      ]
     },
     "execution_count": 149,
     "metadata": {},
     "output_type": "execute_result"
    },
    {
     "data": {
      "image/png": "[encoded data removed]",
      "text/plain": [
       "<matplotlib.figure.Figure at 0x234440c0b00>"
      ]
     },
     "metadata": {},
     "output_type": "display_data"
    }
   ],
   "source": [
    "housing_train.plot(kind=\"scatter\", x=\"longitude\", y=\"latitude\", alpha=0.1)"
   ]
  },
  {
   "cell_type": "code",
   "execution_count": 150,
   "metadata": {},
   "outputs": [
    {
     "data": {
      "text/plain": [
       "<matplotlib.legend.Legend at 0x234466ffc18>"
      ]
     },
     "execution_count": 150,
     "metadata": {},
     "output_type": "execute_result"
    },
    {
     "data": {
      "image/png": "[encoded data removed]",
      "text/plain": [
       "<matplotlib.figure.Figure at 0x234466e7b38>"
      ]
     },
     "metadata": {},
     "output_type": "display_data"
    }
   ],
   "source": [
    "# 查看地域与房价的关系\n",
    "housing_train.plot(kind=\"scatter\", x=\"longitude\", y=\"latitude\", alpha=0.4,\n",
    "                 s=housing[\"population\"]/100, label=\"population\",\n",
    "                 c=\"price\", cmap=plt.get_cmap(\"jet\"), colorbar=True)\n",
    "plt.legend()"
   ]
  },
  {
   "cell_type": "markdown",
   "metadata": {},
   "source": [
    "对特征进行组合，查看组合特征与房价的相关性"
   ]
  },
  {
   "cell_type": "code",
   "execution_count": 151,
   "metadata": {},
   "outputs": [],
   "source": [
    "# housingTrain[\"rooms_per_household\"] = housingTrain[\"total_rooms\"] / housingTrain[\"households\"]\n",
    "# housingTrain[\"bedrooms_per_room\"] = housingTrain[\"total_bedrooms\"] / housingTrain[\"total_rooms\"]\n",
    "# housingTrain[\"population_per_household\"] = housingTrain[\"population\"] / housingTrain[\"households\"]"
   ]
  },
  {
   "cell_type": "code",
   "execution_count": 152,
   "metadata": {},
   "outputs": [],
   "source": [
    "# corr_matrix = housingTrain.corr()\n",
    "# corr_matrix[\"median_house_value\"].sort_values(ascending=False)"
   ]
  },
  {
   "cell_type": "markdown",
   "metadata": {},
   "source": [
    "# 2.清洗数据"
   ]
  },
  {
   "cell_type": "markdown",
   "metadata": {},
   "source": [
    "## 2.1 处理文本数据和类别属性"
   ]
  },
  {
   "cell_type": "code",
   "execution_count": 306,
   "metadata": {},
   "outputs": [],
   "source": [
    "from sklearn.preprocessing import LabelEncoder\n",
    "encoder = LabelEncoder()\n",
    "housing_cat = housing_train[\"ocean_proximity\"].copy()\n",
    "housing_cat_encoded = encoder.fit_transform(housing_cat)"
   ]
  },
  {
   "cell_type": "code",
   "execution_count": 307,
   "metadata": {},
   "outputs": [],
   "source": [
    "idx = housing_cat.index.tolist()"
   ]
  },
  {
   "cell_type": "code",
   "execution_count": 308,
   "metadata": {},
   "outputs": [
    {
     "data": {
      "text/plain": [
       "array([[0., 1., 0., 0., 0.],\n",
       "       [0., 1., 0., 0., 0.],\n",
       "       [0., 1., 0., 0., 0.],\n",
       "       ...,\n",
       "       [1., 0., 0., 0., 0.],\n",
       "       [0., 1., 0., 0., 0.],\n",
       "       [0., 1., 0., 0., 0.]])"
      ]
     },
     "execution_count": 308,
     "metadata": {},
     "output_type": "execute_result"
    }
   ],
   "source": [
    "from sklearn.preprocessing import OneHotEncoder\n",
    "encoder = OneHotEncoder()\n",
    "housing_cat_1hot = encoder.fit_transform(housing_cat_encoded.reshape(-1,1))\n",
    "# housing_cat_ihot 存储的是稀疏矩阵。查看需转换成array\n",
    "housing_cat_1hot_arr = housing_cat_1hot.toarray()\n",
    "housing_cat_1hot_arr"
   ]
  },
  {
   "cell_type": "code",
   "execution_count": 309,
   "metadata": {},
   "outputs": [
    {
     "data": {
      "text/plain": [
       "12957"
      ]
     },
     "execution_count": 309,
     "metadata": {},
     "output_type": "execute_result"
    }
   ],
   "source": [
    "len(housing_cat_1hot_arr)"
   ]
  },
  {
   "cell_type": "code",
   "execution_count": 310,
   "metadata": {},
   "outputs": [
    {
     "data": {
      "text/plain": [
       "<1H OCEAN     5779\n",
       "INLAND        4447\n",
       "NEAR OCEAN    1620\n",
       "NEAR BAY      1109\n",
       "ISLAND           2\n",
       "Name: ocean_proximity, dtype: int64"
      ]
     },
     "execution_count": 310,
     "metadata": {},
     "output_type": "execute_result"
    }
   ],
   "source": [
    "housing_train['ocean_proximity'].value_counts()"
   ]
  },
  {
   "cell_type": "code",
   "execution_count": 311,
   "metadata": {},
   "outputs": [
    {
     "name": "stdout",
     "output_type": "stream",
     "text": [
      "<class 'pandas.core.frame.DataFrame'>\n",
      "Int64Index: 12957 entries, 2219 to 3074\n",
      "Data columns (total 5 columns):\n",
      "<1H OCEAN     12957 non-null float64\n",
      "INLAND        12957 non-null float64\n",
      "ISLAND        12957 non-null float64\n",
      "NEAR BAY      12957 non-null float64\n",
      "NEAR OCEAN    12957 non-null float64\n",
      "dtypes: float64(5)\n",
      "memory usage: 607.4 KB\n"
     ]
    }
   ],
   "source": [
    "tmp = pd.DataFrame(housing_cat_1hot_arr, columns = ['<1H OCEAN', 'INLAND', 'ISLAND', 'NEAR BAY', 'NEAR OCEAN'], index = idx)\n",
    "# tmp['t4'].value_counts()\n",
    "tmp.info()"
   ]
  },
  {
   "cell_type": "code",
   "execution_count": 312,
   "metadata": {},
   "outputs": [
    {
     "data": {
      "text/html": [
       "<div>\n",
       "<style scoped>\n",
       "    .dataframe tbody tr th:only-of-type {\n",
       "        vertical-align: middle;\n",
       "    }\n",
       "\n",
       "    .dataframe tbody tr th {\n",
       "        vertical-align: top;\n",
       "    }\n",
       "\n",
       "    .dataframe thead th {\n",
       "        text-align: right;\n",
       "    }\n",
       "</style>\n",
       "<table border=\"1\" class=\"dataframe\">\n",
       "  <thead>\n",
       "    <tr style=\"text-align: right;\">\n",
       "      <th></th>\n",
       "      <th>longitude</th>\n",
       "      <th>latitude</th>\n",
       "      <th>housing_median_age</th>\n",
       "      <th>median_income</th>\n",
       "      <th>households_log</th>\n",
       "      <th>population_log</th>\n",
       "      <th>total_bedrooms_log</th>\n",
       "      <th>total_rooms_log</th>\n",
       "      <th>price</th>\n",
       "      <th>&lt;1H OCEAN</th>\n",
       "      <th>INLAND</th>\n",
       "      <th>ISLAND</th>\n",
       "      <th>NEAR BAY</th>\n",
       "      <th>NEAR OCEAN</th>\n",
       "    </tr>\n",
       "  </thead>\n",
       "  <tbody>\n",
       "    <tr>\n",
       "      <th>2219</th>\n",
       "      <td>-119.84</td>\n",
       "      <td>36.83</td>\n",
       "      <td>17.0</td>\n",
       "      <td>7.4201</td>\n",
       "      <td>5.891644</td>\n",
       "      <td>6.894670</td>\n",
       "      <td>6.011267</td>\n",
       "      <td>8.010360</td>\n",
       "      <td>229700.0</td>\n",
       "      <td>0.0</td>\n",
       "      <td>1.0</td>\n",
       "      <td>0.0</td>\n",
       "      <td>0.0</td>\n",
       "      <td>0.0</td>\n",
       "    </tr>\n",
       "    <tr>\n",
       "      <th>12483</th>\n",
       "      <td>-121.50</td>\n",
       "      <td>38.57</td>\n",
       "      <td>9.0</td>\n",
       "      <td>3.3580</td>\n",
       "      <td>5.075174</td>\n",
       "      <td>5.693732</td>\n",
       "      <td>5.164786</td>\n",
       "      <td>6.613384</td>\n",
       "      <td>77500.0</td>\n",
       "      <td>0.0</td>\n",
       "      <td>1.0</td>\n",
       "      <td>0.0</td>\n",
       "      <td>0.0</td>\n",
       "      <td>0.0</td>\n",
       "    </tr>\n",
       "    <tr>\n",
       "      <th>3337</th>\n",
       "      <td>-122.51</td>\n",
       "      <td>38.76</td>\n",
       "      <td>9.0</td>\n",
       "      <td>4.0435</td>\n",
       "      <td>5.924256</td>\n",
       "      <td>6.956545</td>\n",
       "      <td>6.177944</td>\n",
       "      <td>7.859027</td>\n",
       "      <td>132600.0</td>\n",
       "      <td>0.0</td>\n",
       "      <td>1.0</td>\n",
       "      <td>0.0</td>\n",
       "      <td>0.0</td>\n",
       "      <td>0.0</td>\n",
       "    </tr>\n",
       "    <tr>\n",
       "      <th>7404</th>\n",
       "      <td>-118.21</td>\n",
       "      <td>33.96</td>\n",
       "      <td>39.0</td>\n",
       "      <td>2.1389</td>\n",
       "      <td>6.184149</td>\n",
       "      <td>7.580189</td>\n",
       "      <td>6.270988</td>\n",
       "      <td>7.625595</td>\n",
       "      <td>168900.0</td>\n",
       "      <td>1.0</td>\n",
       "      <td>0.0</td>\n",
       "      <td>0.0</td>\n",
       "      <td>0.0</td>\n",
       "      <td>0.0</td>\n",
       "    </tr>\n",
       "    <tr>\n",
       "      <th>10711</th>\n",
       "      <td>-117.70</td>\n",
       "      <td>33.60</td>\n",
       "      <td>25.0</td>\n",
       "      <td>3.1131</td>\n",
       "      <td>5.627621</td>\n",
       "      <td>5.981414</td>\n",
       "      <td>5.686975</td>\n",
       "      <td>7.186144</td>\n",
       "      <td>77100.0</td>\n",
       "      <td>1.0</td>\n",
       "      <td>0.0</td>\n",
       "      <td>0.0</td>\n",
       "      <td>0.0</td>\n",
       "      <td>0.0</td>\n",
       "    </tr>\n",
       "  </tbody>\n",
       "</table>\n",
       "</div>"
      ],
      "text/plain": [
       "       longitude  latitude  housing_median_age  median_income  households_log  \\\n",
       "2219     -119.84     36.83                17.0         7.4201        5.891644   \n",
       "12483    -121.50     38.57                 9.0         3.3580        5.075174   \n",
       "3337     -122.51     38.76                 9.0         4.0435        5.924256   \n",
       "7404     -118.21     33.96                39.0         2.1389        6.184149   \n",
       "10711    -117.70     33.60                25.0         3.1131        5.627621   \n",
       "\n",
       "       population_log  total_bedrooms_log  total_rooms_log     price  \\\n",
       "2219         6.894670            6.011267         8.010360  229700.0   \n",
       "12483        5.693732            5.164786         6.613384   77500.0   \n",
       "3337         6.956545            6.177944         7.859027  132600.0   \n",
       "7404         7.580189            6.270988         7.625595  168900.0   \n",
       "10711        5.981414            5.686975         7.186144   77100.0   \n",
       "\n",
       "       <1H OCEAN  INLAND  ISLAND  NEAR BAY  NEAR OCEAN  \n",
       "2219         0.0     1.0     0.0       0.0         0.0  \n",
       "12483        0.0     1.0     0.0       0.0         0.0  \n",
       "3337         0.0     1.0     0.0       0.0         0.0  \n",
       "7404         1.0     0.0     0.0       0.0         0.0  \n",
       "10711        1.0     0.0     0.0       0.0         0.0  "
      ]
     },
     "execution_count": 312,
     "metadata": {},
     "output_type": "execute_result"
    }
   ],
   "source": [
    "cat_name = ['<1H OCEAN', 'INLAND', 'ISLAND', 'NEAR BAY', 'NEAR OCEAN']\n",
    "housing_train = pd.concat([housing_train, tmp], axis=1, join_axes=[housing_train.index])\n",
    "housing_train = housing_train.drop('ocean_proximity', axis = 1)\n",
    "housing_train.head(5)"
   ]
  },
  {
   "cell_type": "code",
   "execution_count": 313,
   "metadata": {},
   "outputs": [
    {
     "name": "stdout",
     "output_type": "stream",
     "text": [
      "<class 'pandas.core.frame.DataFrame'>\n",
      "Int64Index: 12957 entries, 2219 to 3074\n",
      "Data columns (total 14 columns):\n",
      "longitude             12957 non-null float64\n",
      "latitude              12957 non-null float64\n",
      "housing_median_age    12957 non-null float64\n",
      "median_income         12957 non-null float64\n",
      "households_log        12957 non-null float64\n",
      "population_log        12957 non-null float64\n",
      "total_bedrooms_log    12820 non-null float64\n",
      "total_rooms_log       12957 non-null float64\n",
      "price                 12957 non-null float64\n",
      "<1H OCEAN             12957 non-null float64\n",
      "INLAND                12957 non-null float64\n",
      "ISLAND                12957 non-null float64\n",
      "NEAR BAY              12957 non-null float64\n",
      "NEAR OCEAN            12957 non-null float64\n",
      "dtypes: float64(14)\n",
      "memory usage: 1.5 MB\n"
     ]
    }
   ],
   "source": [
    "housing_train.info()"
   ]
  },
  {
   "cell_type": "markdown",
   "metadata": {},
   "source": [
    "## 2.1 处理缺失值\n",
    "卧室数量(total_bedrooms)这个特征有一些缺失值，需要对它们进行处理。  \n",
    "一般有三种方式：  \n",
    "```\n",
    "# 删除为空值的样本\n",
    "housing.dropna(subset=[\"total_bedrooms\"]) # option 1\n",
    "# 删除存在空值的特征（一列）\n",
    "housing.drop(\"total_bedrooms\", axis=1) # option 2\n",
    "# 使用中位数进行替换\n",
    "median = housing[\"total_bedrooms\"].median()\n",
    "housing[\"total_bedrooms\"].fillna(median) # option 3\n",
    "```"
   ]
  },
  {
   "cell_type": "code",
   "execution_count": 314,
   "metadata": {},
   "outputs": [
    {
     "name": "stdout",
     "output_type": "stream",
     "text": [
      "137 1.0573435208767463\n"
     ]
    }
   ],
   "source": [
    "missrow = len(housing_train[housing_train['total_bedrooms_log'].isna()])\n",
    "print(missrow, missrow / len(housing_train) * 100)\n",
    "# 有137个缺失值（由于只占训练集的1.05%，可尝试看看删除缺失的样本效果）\n",
    "# 尝试不同缺失值方法来看看效果"
   ]
  },
  {
   "cell_type": "markdown",
   "metadata": {},
   "source": [
    "### 删除缺失值与中值填充"
   ]
  },
  {
   "cell_type": "markdown",
   "metadata": {},
   "source": [
    "### （1）删除缺失值"
   ]
  },
  {
   "cell_type": "code",
   "execution_count": 315,
   "metadata": {},
   "outputs": [],
   "source": [
    "# 删除后\n",
    "housing_train_drop = housing_train.copy()\n",
    "housing_train_drop = housing_train_drop.dropna(subset=[\"total_bedrooms_log\"])\n",
    "housing_train_drop_pri = housing_train_drop['price']\n",
    "housing_train_drop_fea = housing_train_drop.drop('price', axis = 1)"
   ]
  },
  {
   "cell_type": "code",
   "execution_count": 316,
   "metadata": {},
   "outputs": [
    {
     "name": "stdout",
     "output_type": "stream",
     "text": [
      "<class 'pandas.core.frame.DataFrame'>\n",
      "Int64Index: 12820 entries, 2219 to 3074\n",
      "Data columns (total 13 columns):\n",
      "longitude             12820 non-null float64\n",
      "latitude              12820 non-null float64\n",
      "housing_median_age    12820 non-null float64\n",
      "median_income         12820 non-null float64\n",
      "households_log        12820 non-null float64\n",
      "population_log        12820 non-null float64\n",
      "total_bedrooms_log    12820 non-null float64\n",
      "total_rooms_log       12820 non-null float64\n",
      "<1H OCEAN             12820 non-null float64\n",
      "INLAND                12820 non-null float64\n",
      "ISLAND                12820 non-null float64\n",
      "NEAR BAY              12820 non-null float64\n",
      "NEAR OCEAN            12820 non-null float64\n",
      "dtypes: float64(13)\n",
      "memory usage: 1.4 MB\n"
     ]
    }
   ],
   "source": [
    "housing_train_drop_fea.info()"
   ]
  },
  {
   "cell_type": "code",
   "execution_count": 317,
   "metadata": {},
   "outputs": [
    {
     "name": "stderr",
     "output_type": "stream",
     "text": [
      "D:\\Anaconda\\lib\\site-packages\\sklearn\\linear_model\\coordinate_descent.py:491: ConvergenceWarning: Objective did not converge. You might want to increase the number of iterations. Fitting data with very small alpha may cause precision problems.\n",
      "  ConvergenceWarning)\n"
     ]
    },
    {
     "data": {
      "text/plain": [
       "0.6498546413726322"
      ]
     },
     "execution_count": 317,
     "metadata": {},
     "output_type": "execute_result"
    }
   ],
   "source": [
    "# 使用模型训练，查看训练效果\n",
    "from sklearn.linear_model import Lasso,LassoCV\n",
    "lasso_model1 = Lasso(alpha = 0.01)\n",
    "lasso_model1.fit(housing_train_drop_fea, housing_train_drop_pri)\n",
    "lasso_model1.score(housing_train_drop_fea, housing_train_drop_pri)"
   ]
  },
  {
   "cell_type": "markdown",
   "metadata": {},
   "source": [
    "### （2）中值填充"
   ]
  },
  {
   "cell_type": "code",
   "execution_count": 318,
   "metadata": {},
   "outputs": [],
   "source": [
    "housing_train_fill = housing_train.copy()\n",
    "housing_train_fill_pri = housing_train_fill['price']\n",
    "housing_train_fill_fea = housing_train_fill.drop('price', axis = 1)"
   ]
  },
  {
   "cell_type": "code",
   "execution_count": 319,
   "metadata": {},
   "outputs": [],
   "source": [
    "from sklearn.preprocessing import Imputer\n",
    "\n",
    "imputer = Imputer(strategy=\"median\")\n",
    "imputer.fit(housing_train_fill_fea)\n",
    "\n",
    "X = imputer.transform(housing_train_fill_fea)\n",
    "\n",
    "housing_train_fill_fea = pd.DataFrame(X, columns=housing_train_fill_fea.columns)"
   ]
  },
  {
   "cell_type": "code",
   "execution_count": 320,
   "metadata": {},
   "outputs": [
    {
     "name": "stdout",
     "output_type": "stream",
     "text": [
      "<class 'pandas.core.frame.DataFrame'>\n",
      "RangeIndex: 12957 entries, 0 to 12956\n",
      "Data columns (total 13 columns):\n",
      "longitude             12957 non-null float64\n",
      "latitude              12957 non-null float64\n",
      "housing_median_age    12957 non-null float64\n",
      "median_income         12957 non-null float64\n",
      "households_log        12957 non-null float64\n",
      "population_log        12957 non-null float64\n",
      "total_bedrooms_log    12957 non-null float64\n",
      "total_rooms_log       12957 non-null float64\n",
      "<1H OCEAN             12957 non-null float64\n",
      "INLAND                12957 non-null float64\n",
      "ISLAND                12957 non-null float64\n",
      "NEAR BAY              12957 non-null float64\n",
      "NEAR OCEAN            12957 non-null float64\n",
      "dtypes: float64(13)\n",
      "memory usage: 1.3 MB\n"
     ]
    }
   ],
   "source": [
    "housing_train_fill_fea.info()"
   ]
  },
  {
   "cell_type": "code",
   "execution_count": 321,
   "metadata": {},
   "outputs": [
    {
     "name": "stderr",
     "output_type": "stream",
     "text": [
      "D:\\Anaconda\\lib\\site-packages\\sklearn\\linear_model\\coordinate_descent.py:491: ConvergenceWarning: Objective did not converge. You might want to increase the number of iterations. Fitting data with very small alpha may cause precision problems.\n",
      "  ConvergenceWarning)\n"
     ]
    },
    {
     "data": {
      "text/plain": [
       "0.6472250581016081"
      ]
     },
     "execution_count": 321,
     "metadata": {},
     "output_type": "execute_result"
    }
   ],
   "source": [
    "# 使用模型训练，查看训练效果\n",
    "from sklearn.linear_model import Lasso,LassoCV\n",
    "lasso_model1 = Lasso(alpha = 0.01)\n",
    "lasso_model1.fit(housing_train_fill_fea, housing_train_fill_pri)\n",
    "lasso_model1.score(housing_train_fill_fea, housing_train_fill_pri)"
   ]
  },
  {
   "cell_type": "markdown",
   "metadata": {},
   "source": [
    "### （3）查看是否需要标准化"
   ]
  },
  {
   "cell_type": "code",
   "execution_count": 322,
   "metadata": {},
   "outputs": [],
   "source": [
    "from sklearn.preprocessing import StandardScaler\n",
    "\n",
    "tmp_cat = housing_train_drop_fea[cat_name]\n",
    "tmp_num = housing_train_drop_fea.drop(columns = cat_name, axis = 1)"
   ]
  },
  {
   "cell_type": "code",
   "execution_count": 323,
   "metadata": {},
   "outputs": [],
   "source": [
    "idx = tmp_num.index.tolist()"
   ]
  },
  {
   "cell_type": "code",
   "execution_count": 324,
   "metadata": {},
   "outputs": [
    {
     "data": {
      "text/html": [
       "<div>\n",
       "<style scoped>\n",
       "    .dataframe tbody tr th:only-of-type {\n",
       "        vertical-align: middle;\n",
       "    }\n",
       "\n",
       "    .dataframe tbody tr th {\n",
       "        vertical-align: top;\n",
       "    }\n",
       "\n",
       "    .dataframe thead th {\n",
       "        text-align: right;\n",
       "    }\n",
       "</style>\n",
       "<table border=\"1\" class=\"dataframe\">\n",
       "  <thead>\n",
       "    <tr style=\"text-align: right;\">\n",
       "      <th></th>\n",
       "      <th>longitude</th>\n",
       "      <th>latitude</th>\n",
       "      <th>housing_median_age</th>\n",
       "      <th>median_income</th>\n",
       "      <th>households_log</th>\n",
       "      <th>population_log</th>\n",
       "      <th>total_bedrooms_log</th>\n",
       "      <th>total_rooms_log</th>\n",
       "      <th>&lt;1H OCEAN</th>\n",
       "      <th>INLAND</th>\n",
       "      <th>ISLAND</th>\n",
       "      <th>NEAR BAY</th>\n",
       "      <th>NEAR OCEAN</th>\n",
       "    </tr>\n",
       "  </thead>\n",
       "  <tbody>\n",
       "    <tr>\n",
       "      <th>2219</th>\n",
       "      <td>-0.180931</td>\n",
       "      <td>0.574941</td>\n",
       "      <td>-0.872225</td>\n",
       "      <td>2.376732</td>\n",
       "      <td>-0.146033</td>\n",
       "      <td>-0.220882</td>\n",
       "      <td>-0.083494</td>\n",
       "      <td>0.496351</td>\n",
       "      <td>0.0</td>\n",
       "      <td>1.0</td>\n",
       "      <td>0.0</td>\n",
       "      <td>0.0</td>\n",
       "      <td>0.0</td>\n",
       "    </tr>\n",
       "    <tr>\n",
       "      <th>12483</th>\n",
       "      <td>-1.018124</td>\n",
       "      <td>1.383960</td>\n",
       "      <td>-1.574668</td>\n",
       "      <td>-0.209619</td>\n",
       "      <td>-1.269305</td>\n",
       "      <td>-1.861579</td>\n",
       "      <td>-1.254207</td>\n",
       "      <td>-1.388490</td>\n",
       "      <td>0.0</td>\n",
       "      <td>1.0</td>\n",
       "      <td>0.0</td>\n",
       "      <td>0.0</td>\n",
       "      <td>0.0</td>\n",
       "    </tr>\n",
       "    <tr>\n",
       "      <th>3337</th>\n",
       "      <td>-1.527500</td>\n",
       "      <td>1.472302</td>\n",
       "      <td>-1.574668</td>\n",
       "      <td>0.226840</td>\n",
       "      <td>-0.101167</td>\n",
       "      <td>-0.136349</td>\n",
       "      <td>0.147027</td>\n",
       "      <td>0.292169</td>\n",
       "      <td>0.0</td>\n",
       "      <td>1.0</td>\n",
       "      <td>0.0</td>\n",
       "      <td>0.0</td>\n",
       "      <td>0.0</td>\n",
       "    </tr>\n",
       "    <tr>\n",
       "      <th>7404</th>\n",
       "      <td>0.641131</td>\n",
       "      <td>-0.759477</td>\n",
       "      <td>1.059493</td>\n",
       "      <td>-0.985824</td>\n",
       "      <td>0.256385</td>\n",
       "      <td>0.715660</td>\n",
       "      <td>0.275710</td>\n",
       "      <td>-0.022785</td>\n",
       "      <td>1.0</td>\n",
       "      <td>0.0</td>\n",
       "      <td>0.0</td>\n",
       "      <td>0.0</td>\n",
       "      <td>0.0</td>\n",
       "    </tr>\n",
       "    <tr>\n",
       "      <th>10711</th>\n",
       "      <td>0.898341</td>\n",
       "      <td>-0.926861</td>\n",
       "      <td>-0.169782</td>\n",
       "      <td>-0.365548</td>\n",
       "      <td>-0.509267</td>\n",
       "      <td>-1.468553</td>\n",
       "      <td>-0.532001</td>\n",
       "      <td>-0.615705</td>\n",
       "      <td>1.0</td>\n",
       "      <td>0.0</td>\n",
       "      <td>0.0</td>\n",
       "      <td>0.0</td>\n",
       "      <td>0.0</td>\n",
       "    </tr>\n",
       "  </tbody>\n",
       "</table>\n",
       "</div>"
      ],
      "text/plain": [
       "       longitude  latitude  housing_median_age  median_income  households_log  \\\n",
       "2219   -0.180931  0.574941           -0.872225       2.376732       -0.146033   \n",
       "12483  -1.018124  1.383960           -1.574668      -0.209619       -1.269305   \n",
       "3337   -1.527500  1.472302           -1.574668       0.226840       -0.101167   \n",
       "7404    0.641131 -0.759477            1.059493      -0.985824        0.256385   \n",
       "10711   0.898341 -0.926861           -0.169782      -0.365548       -0.509267   \n",
       "\n",
       "       population_log  total_bedrooms_log  total_rooms_log  <1H OCEAN  INLAND  \\\n",
       "2219        -0.220882           -0.083494         0.496351        0.0     1.0   \n",
       "12483       -1.861579           -1.254207        -1.388490        0.0     1.0   \n",
       "3337        -0.136349            0.147027         0.292169        0.0     1.0   \n",
       "7404         0.715660            0.275710        -0.022785        1.0     0.0   \n",
       "10711       -1.468553           -0.532001        -0.615705        1.0     0.0   \n",
       "\n",
       "       ISLAND  NEAR BAY  NEAR OCEAN  \n",
       "2219      0.0       0.0         0.0  \n",
       "12483     0.0       0.0         0.0  \n",
       "3337      0.0       0.0         0.0  \n",
       "7404      0.0       0.0         0.0  \n",
       "10711     0.0       0.0         0.0  "
      ]
     },
     "execution_count": 324,
     "metadata": {},
     "output_type": "execute_result"
    }
   ],
   "source": [
    "stdSca = StandardScaler()\n",
    "stdSca.fit(tmp_num)\n",
    "X_t = stdSca.transform(tmp_num)\n",
    "tmp_num = pd.DataFrame(X_t, columns=tmp_num.columns, index = idx)\n",
    "# tmp_num.head(5)\n",
    "housing_train_drop_fea = pd.concat([tmp_num, tmp_cat], axis=1, join_axes=[tmp_num.index])\n",
    "housing_train_drop_fea.head(5)"
   ]
  },
  {
   "cell_type": "code",
   "execution_count": 325,
   "metadata": {},
   "outputs": [
    {
     "name": "stderr",
     "output_type": "stream",
     "text": [
      "D:\\Anaconda\\lib\\site-packages\\sklearn\\linear_model\\coordinate_descent.py:491: ConvergenceWarning: Objective did not converge. You might want to increase the number of iterations. Fitting data with very small alpha may cause precision problems.\n",
      "  ConvergenceWarning)\n"
     ]
    },
    {
     "data": {
      "text/plain": [
       "0.6498546413737257"
      ]
     },
     "execution_count": 325,
     "metadata": {},
     "output_type": "execute_result"
    }
   ],
   "source": [
    "from sklearn.linear_model import Lasso,LassoCV\n",
    "lasso_model1 = Lasso(alpha = 0.01)\n",
    "lasso_model1.fit(housing_train_drop_fea, housing_train_drop_pri)\n",
    "lasso_model1.score(housing_train_drop_fea, housing_train_drop_pri)"
   ]
  },
  {
   "cell_type": "code",
   "execution_count": 326,
   "metadata": {},
   "outputs": [
    {
     "data": {
      "text/plain": [
       "array([-49743.20329242, -50463.52762825,   8601.35932073,  65571.56180154,\n",
       "        30151.38160574, -51508.71197777,  59182.76226311, -35360.45843201,\n",
       "        18825.72128134, -15248.59792162, 175805.33081709,   1592.39913321,\n",
       "        19936.36270205])"
      ]
     },
     "execution_count": 326,
     "metadata": {},
     "output_type": "execute_result"
    }
   ],
   "source": [
    "lasso_model1.coef_"
   ]
  },
  {
   "cell_type": "markdown",
   "metadata": {},
   "source": [
    "### 看起来似乎并没有多大提高"
   ]
  },
  {
   "cell_type": "markdown",
   "metadata": {},
   "source": [
    "# 3.自定义转换器\n"
   ]
  },
  {
   "cell_type": "markdown",
   "metadata": {},
   "source": [
    "## 3.2 既有数值型又有枚举型数据转换器管道"
   ]
  },
  {
   "cell_type": "code",
   "execution_count": 24,
   "metadata": {},
   "outputs": [],
   "source": [
    "from sklearn.pipeline import FeatureUnion\n",
    "from sklearn.pipeline import Pipeline\n",
    "from sklearn.preprocessing import StandardScaler\n",
    "\n",
    "housing_num = housing.drop(\"ocean_proximity\", axis=1)\n",
    "num_attribs = list(housing_num)\n",
    "cat_attribs = [\"ocean_proximity\"]\n",
    "\n",
    "num_pipeline = Pipeline([\n",
    "    ('selector', DataFrameSelector(num_attribs)),\n",
    "    ('imputer', Imputer(strategy='median')),\n",
    "    ('std_scaler', StandardScaler())\n",
    "])\n",
    "\n",
    "cat_pipeline = Pipeline([\n",
    "    ('selector', DataFrameSelector(cat_attribs)),\n",
    "    ('label_binarizer', LabelBinarizer_new())\n",
    "])\n",
    "\n",
    "full_pipeline = FeatureUnion(transformer_list = [\n",
    "    (\"num_pipeline\", num_pipeline),\n",
    "    (\"cat_pipeline\", cat_pipeline)\n",
    "])"
   ]
  },
  {
   "cell_type": "code",
   "execution_count": 25,
   "metadata": {},
   "outputs": [
    {
     "data": {
      "text/plain": [
       "['longitude',\n",
       " 'latitude',\n",
       " 'housing_median_age',\n",
       " 'total_rooms',\n",
       " 'total_bedrooms',\n",
       " 'population',\n",
       " 'households',\n",
       " 'median_income']"
      ]
     },
     "execution_count": 25,
     "metadata": {},
     "output_type": "execute_result"
    }
   ],
   "source": [
    "num_attribs"
   ]
  },
  {
   "cell_type": "code",
   "execution_count": 26,
   "metadata": {},
   "outputs": [
    {
     "data": {
      "text/plain": [
       "13"
      ]
     },
     "execution_count": 26,
     "metadata": {},
     "output_type": "execute_result"
    }
   ],
   "source": [
    "housing_prepared = full_pipeline.fit_transform(housing)\n",
    "len(housing_prepared[0])"
   ]
  },
  {
   "cell_type": "markdown",
   "metadata": {},
   "source": [
    "## 总结：\n",
    "（1）确定是否存在需要进行缺失值处理的**特征**<br/>\n",
    "（2）确定是否存在**枚举型特征**<br/>\n",
    "（3）定义**特征组合转换器（fit,transform）**<br/>\n",
    "（4）重新定义**类别特征转换器**<br/>\n",
    "（5）定义**数据选择转换器**<br/>\n",
    "（6）定义**特征转换器管道**：数值型管道（内有数据选择转换器和数值类型转换器）+类别型管道（内有数据选择转换器和类别类型转换器）+组合管道（前两者）。<br/>"
   ]
  },
  {
   "cell_type": "markdown",
   "metadata": {},
   "source": [
    "# 4.选择、训练模型\n",
    "## 4.1 模型选择"
   ]
  },
  {
   "cell_type": "code",
   "execution_count": 27,
   "metadata": {},
   "outputs": [
    {
     "name": "stdout",
     "output_type": "stream",
     "text": [
      "{'Linear Regression': 49992.25915086791, 'Decision Tree Regression': 44013.89154980546, 'SVM Regression': 57581.10708819091, 'Random Forest Regression': 34135.145178008635}\n"
     ]
    }
   ],
   "source": [
    "from sklearn.model_selection import cross_val_score\n",
    "from sklearn.linear_model import LinearRegression\n",
    "from sklearn.tree import DecisionTreeRegressor\n",
    "from sklearn.svm import SVR\n",
    "from sklearn.ensemble import RandomForestRegressor\n",
    "\n",
    "lin_reg = LinearRegression()\n",
    "tree_reg = DecisionTreeRegressor()\n",
    "svr_reg = SVR(kernel='linear', C=10)\n",
    "forest_reg = RandomForestRegressor()\n",
    "\n",
    "mae_dict = {}\n",
    "model_dict = {\"Linear Regression\":lin_reg, \"Decision Tree Regression\":tree_reg, \"SVM Regression\":svr_reg, \"Random Forest Regression\":forest_reg}\n",
    "\n",
    "for name, model in model_dict.items():\n",
    "    mae = cross_val_score(model, housing_prepared, housing_labels, scoring=\"neg_mean_absolute_error\", cv=10)\n",
    "    mae_mean = mae.mean()\n",
    "    mae_dict[name] = -mae_mean\n",
    "\n",
    "print(mae_dict)"
   ]
  },
  {
   "cell_type": "markdown",
   "metadata": {},
   "source": [
    "## 网格搜索"
   ]
  },
  {
   "cell_type": "code",
   "execution_count": 75,
   "metadata": {},
   "outputs": [
    {
     "data": {
      "text/plain": [
       "GridSearchCV(cv=5, error_score='raise',\n",
       "       estimator=RandomForestRegressor(bootstrap=True, criterion='mse', max_depth=None,\n",
       "           max_features='auto', max_leaf_nodes=None,\n",
       "           min_impurity_decrease=0.0, min_impurity_split=None,\n",
       "           min_samples_leaf=1, min_samples_split=2,\n",
       "           min_weight_fraction_leaf=0.0, n_estimators=10, n_jobs=1,\n",
       "           oob_score=False, random_state=None, verbose=0, warm_start=False),\n",
       "       fit_params=None, iid=True, n_jobs=1,\n",
       "       param_grid=[{'n_estimators': [3, 10, 30, 44], 'max_features': [2, 4, 7, 8, 10]}],\n",
       "       pre_dispatch='2*n_jobs', refit=True, return_train_score='warn',\n",
       "       scoring='neg_mean_squared_error', verbose=0)"
      ]
     },
     "execution_count": 75,
     "metadata": {},
     "output_type": "execute_result"
    }
   ],
   "source": [
    "from sklearn.model_selection import GridSearchCV\n",
    "\n",
    "param_grid = [\n",
    "    { 'n_estimators': [3, 10, 30, 44], 'max_features':[2,4,7,8,10]}\n",
    "]\n",
    "\n",
    "forest_reg = RandomForestRegressor()\n",
    "\n",
    "grid_search = GridSearchCV(forest_reg, param_grid, cv=5,\n",
    "                           scoring='neg_mean_squared_error')\n",
    "grid_search.fit(housing_prepared, housing_labels)"
   ]
  },
  {
   "cell_type": "code",
   "execution_count": 76,
   "metadata": {},
   "outputs": [
    {
     "data": {
      "text/plain": [
       "{'max_features': 10, 'n_estimators': 44}"
      ]
     },
     "execution_count": 76,
     "metadata": {},
     "output_type": "execute_result"
    }
   ],
   "source": [
    "grid_search.best_params_"
   ]
  },
  {
   "cell_type": "code",
   "execution_count": 71,
   "metadata": {},
   "outputs": [
    {
     "name": "stdout",
     "output_type": "stream",
     "text": [
      "63746.005489063595 {'max_features': 2, 'n_estimators': 3}\n",
      "55560.5833458005 {'max_features': 2, 'n_estimators': 10}\n",
      "52881.69572190291 {'max_features': 2, 'n_estimators': 30}\n",
      "51900.59602998567 {'max_features': 2, 'n_estimators': 100}\n",
      "59875.07158712521 {'max_features': 4, 'n_estimators': 3}\n",
      "53174.45587346139 {'max_features': 4, 'n_estimators': 10}\n",
      "50814.57341293794 {'max_features': 4, 'n_estimators': 30}\n",
      "50000.88842049021 {'max_features': 4, 'n_estimators': 100}\n",
      "58603.305027565075 {'max_features': 6, 'n_estimators': 3}\n",
      "52929.343233455 {'max_features': 6, 'n_estimators': 10}\n",
      "50253.20569321228 {'max_features': 6, 'n_estimators': 30}\n",
      "49567.190978153136 {'max_features': 6, 'n_estimators': 100}\n",
      "59077.57700811994 {'max_features': 8, 'n_estimators': 3}\n",
      "52207.40860724562 {'max_features': 8, 'n_estimators': 10}\n",
      "50117.91658749027 {'max_features': 8, 'n_estimators': 30}\n",
      "49370.759793786194 {'max_features': 8, 'n_estimators': 100}\n",
      "58691.25560902858 {'max_features': 10, 'n_estimators': 3}\n",
      "52162.72603668375 {'max_features': 10, 'n_estimators': 10}\n",
      "50417.94547051013 {'max_features': 10, 'n_estimators': 30}\n",
      "49570.780242435176 {'max_features': 10, 'n_estimators': 100}\n"
     ]
    }
   ],
   "source": [
    "cvres = grid_search.cv_results_\n",
    "for mean_score, params in zip(cvres[\"mean_test_score\"], cvres[\"params\"]):\n",
    "    print(np.sqrt(-mean_score), params)"
   ]
  },
  {
   "cell_type": "code",
   "execution_count": 65,
   "metadata": {},
   "outputs": [],
   "source": [
    "scores = []\n",
    "x = []\n",
    "y = []\n",
    "params_d = []\n",
    "for mean_score, params in zip(cvres[\"mean_test_score\"], cvres[\"params\"]):\n",
    "    scores.append(np.sqrt(-mean_score))\n",
    "#     print(np.sqrt(-mean_score), params)\n",
    "    x.append(params['max_features'])\n",
    "#     y.append(params['n_estimators'])\n",
    "import matplotlib.pyplot as plt\n",
    "import matplotlib as mpl\n",
    "from mpl_toolkits.mplot3d import Axes3D\n",
    "# fig = plt.figure()\n",
    "# ax = fig.gca(projection='3d')\n",
    "# ax.plot(x, y, scores, label='parametric curve')\n",
    "# ax.legend()\n",
    " \n",
    "# plt.show()\n"
   ]
  },
  {
   "cell_type": "code",
   "execution_count": 66,
   "metadata": {},
   "outputs": [
    {
     "data": {
      "text/plain": [
       "[<matplotlib.lines.Line2D at 0x25216ccb080>]"
      ]
     },
     "execution_count": 66,
     "metadata": {},
     "output_type": "execute_result"
    },
    {
     "data": {
      "image/png": "[encoded data removed]",
      "text/plain": [
       "<matplotlib.figure.Figure at 0x25216cb42b0>"
      ]
     },
     "metadata": {},
     "output_type": "display_data"
    }
   ],
   "source": [
    "plt.plot(x, scores)"
   ]
  },
  {
   "cell_type": "code",
   "execution_count": 61,
   "metadata": {},
   "outputs": [
    {
     "data": {
      "text/plain": [
       "[<matplotlib.lines.Line2D at 0x2523dbffef0>]"
      ]
     },
     "execution_count": 61,
     "metadata": {},
     "output_type": "execute_result"
    },
    {
     "data": {
      "image/png": "[encoded data removed]",
      "text/plain": [
       "<matplotlib.figure.Figure at 0x2523db71ba8>"
      ]
     },
     "metadata": {},
     "output_type": "display_data"
    }
   ],
   "source": [
    "plt.plot(y, scores)"
   ]
  },
  {
   "cell_type": "markdown",
   "metadata": {},
   "source": [
    "##  随机搜索(Randomized Search)"
   ]
  },
  {
   "cell_type": "code",
   "execution_count": 72,
   "metadata": {},
   "outputs": [
    {
     "name": "stderr",
     "output_type": "stream",
     "text": [
      "D:\\Anaconda\\lib\\site-packages\\sklearn\\cross_validation.py:41: DeprecationWarning: This module was deprecated in version 0.18 in favor of the model_selection module into which all the refactored classes and functions are moved. Also note that the interface of the new CV iterators are different from that of this module. This module will be removed in 0.20.\n",
      "  \"This module will be removed in 0.20.\", DeprecationWarning)\n",
      "D:\\Anaconda\\lib\\site-packages\\sklearn\\grid_search.py:42: DeprecationWarning: This module was deprecated in version 0.18 in favor of the model_selection module into which all the refactored classes and functions are moved. This module will be removed in 0.20.\n",
      "  DeprecationWarning)\n"
     ]
    },
    {
     "data": {
      "text/plain": [
       "RandomizedSearchCV(cv=10, error_score='raise',\n",
       "          estimator=RandomForestRegressor(bootstrap=True, criterion='mse', max_depth=None,\n",
       "           max_features='auto', max_leaf_nodes=None,\n",
       "           min_impurity_decrease=0.0, min_impurity_split=None,\n",
       "           min_samples_leaf=1, min_samples_split=2,\n",
       "           min_weight_fraction_leaf=0.0, n_estimators=10, n_jobs=1,\n",
       "           oob_score=False, random_state=None, verbose=0, warm_start=False),\n",
       "          fit_params={}, iid=True, n_iter=10, n_jobs=1,\n",
       "          param_distributions={'n_estimators': range(3, 50), 'max_features': range(2, 10)},\n",
       "          pre_dispatch='2*n_jobs', random_state=None, refit=True,\n",
       "          scoring='neg_mean_squared_error', verbose=0)"
      ]
     },
     "execution_count": 72,
     "metadata": {},
     "output_type": "execute_result"
    }
   ],
   "source": [
    "from sklearn.grid_search import RandomizedSearchCV\n",
    "from sklearn.ensemble import RandomForestRegressor\n",
    "\n",
    "param_grid = {\n",
    "    'n_estimators':range(3,50),\n",
    "    'max_features':range(2,10)\n",
    "}\n",
    "\n",
    "forest_reg = RandomForestRegressor()\n",
    "grid_search = RandomizedSearchCV(forest_reg, param_grid,  cv=10, scoring='neg_mean_squared_error')\n",
    "grid_search.fit(housing_prepared, housing_labels)"
   ]
  },
  {
   "cell_type": "code",
   "execution_count": 73,
   "metadata": {},
   "outputs": [
    {
     "data": {
      "text/plain": [
       "RandomForestRegressor(bootstrap=True, criterion='mse', max_depth=None,\n",
       "           max_features=7, max_leaf_nodes=None, min_impurity_decrease=0.0,\n",
       "           min_impurity_split=None, min_samples_leaf=1,\n",
       "           min_samples_split=2, min_weight_fraction_leaf=0.0,\n",
       "           n_estimators=44, n_jobs=1, oob_score=False, random_state=None,\n",
       "           verbose=0, warm_start=False)"
      ]
     },
     "execution_count": 73,
     "metadata": {},
     "output_type": "execute_result"
    }
   ],
   "source": [
    "grid_search.best_estimator_"
   ]
  },
  {
   "cell_type": "code",
   "execution_count": 74,
   "metadata": {},
   "outputs": [
    {
     "name": "stdout",
     "output_type": "stream",
     "text": [
      "{'n_estimators': 44, 'max_features': 7}\n",
      "49467.727270539974\n"
     ]
    }
   ],
   "source": [
    "print(grid_search.best_params_)\n",
    "print(np.sqrt(-grid_search.best_score_))"
   ]
  },
  {
   "cell_type": "markdown",
   "metadata": {},
   "source": [
    "# 5. 分析最好的模型以及它们的误差"
   ]
  },
  {
   "cell_type": "code",
   "execution_count": 64,
   "metadata": {},
   "outputs": [
    {
     "data": {
      "text/plain": [
       "array([7.31205337e-02, 6.64081415e-02, 4.20055146e-02, 1.55852791e-02,\n",
       "       1.49134980e-02, 1.56272227e-02, 1.48938172e-02, 3.38978020e-01,\n",
       "       6.10316660e-02, 1.08804794e-01, 7.68059561e-02, 1.26601339e-02,\n",
       "       1.53871205e-01, 7.47508663e-05, 1.75236874e-03, 3.46709780e-03])"
      ]
     },
     "execution_count": 64,
     "metadata": {},
     "output_type": "execute_result"
    }
   ],
   "source": [
    "# 此处是随机搜索得到的结果：n_estimators:33,max_features:7\n",
    "feature_importances = grid_search.best_estimator_.feature_importances_\n",
    "feature_importances"
   ]
  },
  {
   "cell_type": "code",
   "execution_count": 65,
   "metadata": {},
   "outputs": [
    {
     "data": {
      "text/plain": [
       "[(0.3389780204345897, 'median_income'),\n",
       " (0.15387120541580282, 'INLAND'),\n",
       " (0.10880479391469873, 'pop_per_hhold'),\n",
       " (0.0768059561015853, 'bedrooms_per_room'),\n",
       " (0.07312053374399625, 'longitude'),\n",
       " (0.06640814152469487, 'latitude'),\n",
       " (0.061031665999631925, 'rooms_per_hhold'),\n",
       " (0.042005514592786425, 'housing_median_age'),\n",
       " (0.015627222652917584, 'population'),\n",
       " (0.015585279143297598, 'total_rooms'),\n",
       " (0.014913497976265101, 'total_bedrooms'),\n",
       " (0.014893817193465943, 'households'),\n",
       " (0.0126601338980277, '<1H OCEAN'),\n",
       " (0.0034670978038300986, 'NEAR OCEAN'),\n",
       " (0.0017523687380915848, 'NEAR BAY'),\n",
       " (7.475086631820635e-05, 'ISLAND')]"
      ]
     },
     "execution_count": 65,
     "metadata": {},
     "output_type": "execute_result"
    }
   ],
   "source": [
    "extra_attribs= [\"rooms_per_hhold\", \"pop_per_hhold\", \"bedrooms_per_room\"]\n",
    "cat_one_hot_attribs = list(encoder.classes_)\n",
    "attributes = num_attribs + extra_attribs + cat_one_hot_attribs\n",
    "sorted(zip(feature_importances, attributes), reverse=True)"
   ]
  },
  {
   "cell_type": "markdown",
   "metadata": {},
   "source": [
    "# 6.在测试集上评估最终效果"
   ]
  },
  {
   "cell_type": "code",
   "execution_count": 66,
   "metadata": {},
   "outputs": [
    {
     "name": "stdout",
     "output_type": "stream",
     "text": [
      "47988.99114061766\n"
     ]
    }
   ],
   "source": [
    "final_model = grid_search.best_estimator_\n",
    "\n",
    "X_test = strat_test_set.drop(\"median_house_value\", axis=1)\n",
    "y_test = strat_test_set[\"median_house_value\"].copy()\n",
    "\n",
    "X_test_prepared = full_pipeline.transform(X_test)\n",
    "final_predictions = final_model.predict(X_test_prepared)\n",
    "\n",
    "final_mse = mean_squared_error(y_test, final_predictions)\n",
    "final_rmse = np.sqrt(final_mse)\n",
    "print(final_rmse)"
   ]
  },
  {
   "cell_type": "code",
   "execution_count": null,
   "metadata": {},
   "outputs": [],
   "source": []
  }
 ],
 "metadata": {
  "kernelspec": {
   "display_name": "Python 3",
   "language": "python",
   "name": "python3"
  },
  "language_info": {
   "codemirror_mode": {
    "name": "ipython",
    "version": 3
   },
   "file_extension": ".py",
   "mimetype": "text/x-python",
   "name": "python",
   "nbconvert_exporter": "python",
   "pygments_lexer": "ipython3",
   "version": "3.6.4"
  }
 },
 "nbformat": 4,
 "nbformat_minor": 2
}
